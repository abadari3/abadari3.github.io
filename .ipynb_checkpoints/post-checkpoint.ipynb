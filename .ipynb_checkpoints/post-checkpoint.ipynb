{
 "cells": [
  {
   "cell_type": "markdown",
   "id": "6de209d5",
   "metadata": {},
   "source": [
    "---\n",
    "layout: post\n",
    "title: Algebra, Topology, Differential Calculus, and Optimization Theory For Computer Science and Machine Learning\n",
    "---"
   ]
  },
  {
   "cell_type": "markdown",
   "id": "f87a2ec7",
   "metadata": {},
   "source": [
    "Source: [Algebra, Topology, Differential Calculus, and Optimization Theory\n",
    "For Computer Science and Machine Learning](https://www.cis.upenn.edu/~jean/math-deep.pdf)"
   ]
  },
  {
   "cell_type": "code",
   "execution_count": null,
   "id": "eb13cfb2",
   "metadata": {},
   "outputs": [],
   "source": []
  },
  {
   "cell_type": "markdown",
   "id": "e7aa5ee5",
   "metadata": {},
   "source": [
    "<!-- "
   ]
  },
  {
   "cell_type": "code",
   "execution_count": null,
   "id": "4a72c3ee",
   "metadata": {},
   "outputs": [],
   "source": [
    "!jupyter nbconvert --to markdown --output=\"math-deep\" post.ipynb --no-input --no-prompt"
   ]
  },
  {
   "cell_type": "code",
   "execution_count": 29,
   "id": "5f856acf",
   "metadata": {
    "scrolled": false
   },
   "outputs": [
    {
     "name": "stdout",
     "output_type": "stream",
     "text": [
      "[NbConvertApp] Converting notebook post.ipynb to markdown\n",
      "[NbConvertApp] Writing 244 bytes to _posts/2022-12-24-Seven Samurai 1954.md\n"
     ]
    }
   ],
   "source": [
    "# !jupyter nbconvert --to markdown --output-dir=\"_posts\" --output=\"2022-12-24-Seven Samurai 1954\" post.ipynb --no-input --no-prompt"
   ]
  },
  {
   "cell_type": "markdown",
   "id": "51d55744",
   "metadata": {},
   "source": [
    "-->"
   ]
  }
 ],
 "metadata": {
  "kernelspec": {
   "display_name": "Python 3 (ipykernel)",
   "language": "python",
   "name": "python3"
  },
  "language_info": {
   "codemirror_mode": {
    "name": "ipython",
    "version": 3
   },
   "file_extension": ".py",
   "mimetype": "text/x-python",
   "name": "python",
   "nbconvert_exporter": "python",
   "pygments_lexer": "ipython3",
   "version": "3.9.1"
  }
 },
 "nbformat": 4,
 "nbformat_minor": 5
}
