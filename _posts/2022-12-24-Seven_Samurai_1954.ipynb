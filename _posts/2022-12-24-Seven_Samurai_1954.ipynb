{
 "cells": [
  {
   "cell_type": "markdown",
   "id": "16ca3022",
   "metadata": {},
   "source": [
    "---\n",
    "layout: post\n",
    "category: movie\n",
    "---"
   ]
  },
  {
   "cell_type": "markdown",
   "id": "5c06b6b2",
   "metadata": {},
   "source": [
    "Lorem ipsum dolor sit amet, consectetur adipiscing elit. Pellentesque vel lacinia neque. Praesent nulla quam, ullamcorper in sollicitudin ac, molestie sed justo. Cras aliquam, sapien id consectetur accumsan, augue magna faucibus ex, ut ultricies turpis tortor vel ante. In at rutrum tellus. Nullam vestibulum metus eu purus malesuada, volutpat mattis leo facilisis."
   ]
  },
  {
   "cell_type": "code",
   "execution_count": 9,
   "id": "b5d9c335",
   "metadata": {},
   "outputs": [
    {
     "name": "stdout",
     "output_type": "stream",
     "text": [
      "[NbConvertApp] Converting notebook 2022-12-24-Seven_Samurai_1954.ipynb to markdown\n",
      "[NbConvertApp] Writing 2220 bytes to 2022-12-24-Seven_Samurai_1954.md\n"
     ]
    }
   ],
   "source": [
    "!jupyter nbconvert --to markdown 2022-12-24-Seven_Samurai_1954.ipynb"
   ]
  },
  {
   "cell_type": "code",
   "execution_count": null,
   "id": "2547c84c",
   "metadata": {},
   "outputs": [],
   "source": []
  }
 ],
 "metadata": {
  "kernelspec": {
   "display_name": "Python 3 (ipykernel)",
   "language": "python",
   "name": "python3"
  },
  "language_info": {
   "codemirror_mode": {
    "name": "ipython",
    "version": 3
   },
   "file_extension": ".py",
   "mimetype": "text/x-python",
   "name": "python",
   "nbconvert_exporter": "python",
   "pygments_lexer": "ipython3",
   "version": "3.9.1"
  }
 },
 "nbformat": 4,
 "nbformat_minor": 5
}
