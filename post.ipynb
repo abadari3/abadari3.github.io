{
 "cells": [
  {
   "cell_type": "markdown",
   "id": "6de209d5",
   "metadata": {},
   "source": [
    "---\n",
    "layout: post\n",
    "title: Seven Samurai (1954)\n",
    "---"
   ]
  },
  {
   "cell_type": "markdown",
   "id": "35868d87",
   "metadata": {},
   "source": [
    "> # ★★★★☆"
   ]
  },
  {
   "cell_type": "markdown",
   "id": "c5403ab4",
   "metadata": {},
   "source": [
    "<img align=\"right\" src=\"https://raw.githubusercontent.com/abadari3/abadari3.github.io/master/_images/sevensamurai1.jpeg\" style=\"float: right;margin-right: 7px;margin-left: 7px;margin-top: 7px;width: 30%\">\n",
    "Seven Samurai is one of my favorite movies of all time, and after the first time I watched it, I ended up rewatching the movie twice more within a week. "
   ]
  },
  {
   "cell_type": "code",
   "execution_count": null,
   "id": "b603b084",
   "metadata": {},
   "outputs": [],
   "source": []
  },
  {
   "cell_type": "markdown",
   "id": "75723312",
   "metadata": {},
   "source": [
    "### References:\n",
    "- [Link to this review on Letterboxd]()\n",
    "- [Roger Ebert's Review](https://www.rogerebert.com/reviews/great-movie-the-seven-samurai-1954)\n",
    "- [Deep Focus Review](https://deepfocusreview.com/definitives/seven-samurai/)\n",
    "- [Criterion Collection Review](https://www.criterion.com/current/posts/19-seven-samurai)"
   ]
  },
  {
   "cell_type": "markdown",
   "id": "8eb6ae81",
   "metadata": {},
   "source": [
    "<!-- "
   ]
  },
  {
   "cell_type": "code",
   "execution_count": 38,
   "id": "abe9fe28",
   "metadata": {},
   "outputs": [],
   "source": [
    "# !jupyter nbconvert --to markdown --output=\"mathdeep\" post.ipynb --no-input --no-prompt"
   ]
  },
  {
   "cell_type": "code",
   "execution_count": 39,
   "id": "5f856acf",
   "metadata": {
    "scrolled": false
   },
   "outputs": [
    {
     "name": "stdout",
     "output_type": "stream",
     "text": [
      "[NbConvertApp] Converting notebook post.ipynb to markdown\n",
      "[NbConvertApp] Writing 897 bytes to _posts/2022-12-24-Seven Samurai 1954.md\n"
     ]
    }
   ],
   "source": [
    "!jupyter nbconvert --to markdown --output-dir=\"_posts\" --output=\"2022-12-24-Seven Samurai 1954\" post.ipynb --no-input --no-prompt"
   ]
  },
  {
   "cell_type": "markdown",
   "id": "c85cf4b3",
   "metadata": {},
   "source": [
    "-->"
   ]
  }
 ],
 "metadata": {
  "kernelspec": {
   "display_name": "Python 3 (ipykernel)",
   "language": "python",
   "name": "python3"
  },
  "language_info": {
   "codemirror_mode": {
    "name": "ipython",
    "version": 3
   },
   "file_extension": ".py",
   "mimetype": "text/x-python",
   "name": "python",
   "nbconvert_exporter": "python",
   "pygments_lexer": "ipython3",
   "version": "3.9.1"
  }
 },
 "nbformat": 4,
 "nbformat_minor": 5
}
