{
 "cells": [
  {
   "cell_type": "markdown",
   "id": "6de209d5",
   "metadata": {},
   "source": [
    "---\n",
    "layout: post\n",
    "category: movie\n",
    "title: Seven Samurai (1954) \n",
    "---"
   ]
  },
  {
   "cell_type": "markdown",
   "id": "5e7c72b0",
   "metadata": {},
   "source": [
    "Lorem ipsum dolor sit amet, consectetur adipiscing elit. Pellentesque vel lacinia neque. Praesent nulla quam, ullamcorper in sollicitudin ac, molestie sed justo. Cras aliquam, sapien id consectetur accumsan, augue magna faucibus ex, ut ultricies turpis tortor vel ante. In at rutrum tellus. Nullam vestibulum metus eu purus malesuada, volutpat mattis leo facilisis."
   ]
  },
  {
   "cell_type": "code",
   "execution_count": 5,
   "id": "5f856acf",
   "metadata": {
    "scrolled": true
   },
   "outputs": [
    {
     "name": "stdout",
     "output_type": "stream",
     "text": [
      "[NbConvertApp] Converting notebook post.ipynb to markdown\n",
      "[NbConvertApp] Writing 577 bytes to _posts/2022-12-24-Seven Samurai 1954.md\n"
     ]
    }
   ],
   "source": [
    "!jupyter nbconvert --no-input --to markdown --output-dir=\"_posts\" --output=\"2022-12-24-Seven Samurai 1954\" post.ipynb"
   ]
  }
 ],
 "metadata": {
  "kernelspec": {
   "display_name": "Python 3 (ipykernel)",
   "language": "python",
   "name": "python3"
  },
  "language_info": {
   "codemirror_mode": {
    "name": "ipython",
    "version": 3
   },
   "file_extension": ".py",
   "mimetype": "text/x-python",
   "name": "python",
   "nbconvert_exporter": "python",
   "pygments_lexer": "ipython3",
   "version": "3.9.1"
  }
 },
 "nbformat": 4,
 "nbformat_minor": 5
}
