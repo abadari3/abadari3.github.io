{
 "cells": [
  {
   "cell_type": "markdown",
   "id": "6de209d5",
   "metadata": {},
   "source": [
    "---\n",
    "layout: post\n",
    "category: movie\n",
    "---"
   ]
  },
  {
   "cell_type": "markdown",
   "id": "5e7c72b0",
   "metadata": {},
   "source": [
    "Lorem ipsum dolor sit amet, consectetur adipiscing elit. Pellentesque vel lacinia neque. Praesent nulla quam, ullamcorper in sollicitudin ac, molestie sed justo. Cras aliquam, sapien id consectetur accumsan, augue magna faucibus ex, ut ultricies turpis tortor vel ante. In at rutrum tellus. Nullam vestibulum metus eu purus malesuada, volutpat mattis leo facilisis."
   ]
  },
  {
   "cell_type": "code",
   "execution_count": 1,
   "id": "7d3cbfbc",
   "metadata": {},
   "outputs": [],
   "source": [
    "title = \"Seven Samurai 1954\""
   ]
  },
  {
   "cell_type": "code",
   "execution_count": 2,
   "id": "5f856acf",
   "metadata": {
    "scrolled": true
   },
   "outputs": [
    {
     "name": "stdout",
     "output_type": "stream",
     "text": [
      "[NbConvertApp] Converting notebook post.ipynb to markdown\n",
      "[NbConvertApp] Writing 724 bytes to _posts/f2022-12-24-Seven Samurai 1954.md\n"
     ]
    }
   ],
   "source": [
    "!jupyter nbconvert --to markdown --output-dir=\"_posts\" --output=f\"2022-12-24-{title}\" post.ipynb"
   ]
  }
 ],
 "metadata": {
  "kernelspec": {
   "display_name": "Python 3 (ipykernel)",
   "language": "python",
   "name": "python3"
  },
  "language_info": {
   "codemirror_mode": {
    "name": "ipython",
    "version": 3
   },
   "file_extension": ".py",
   "mimetype": "text/x-python",
   "name": "python",
   "nbconvert_exporter": "python",
   "pygments_lexer": "ipython3",
   "version": "3.9.1"
  }
 },
 "nbformat": 4,
 "nbformat_minor": 5
}
